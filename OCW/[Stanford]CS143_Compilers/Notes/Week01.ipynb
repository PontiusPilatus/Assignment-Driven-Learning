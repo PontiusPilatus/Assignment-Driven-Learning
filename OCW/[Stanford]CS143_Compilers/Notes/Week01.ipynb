{
 "cells": [
  {
   "cell_type": "markdown",
   "metadata": {
    "button": false,
    "deletable": true,
    "new_sheet": false,
    "run_control": {
     "read_only": false
    }
   },
   "source": [
    "# Week 01: Introduction & the Cool Programming Language\n",
    "\n",
    "## How to Run the Program\n",
    "\n",
    "- Compiler (Offline)\n",
    "  - $Program \\rightarrow Compiler \\rightarrow Execute$\n",
    "  - $Data \\rightarrow Execute \\rightarrow Output$\n",
    "- Interpreter (Online)\n",
    "  - $Program + Data \\rightarrow Interpreter \\rightarrow Output$\n",
    "\n",
    "## Compiler Concept\n",
    "\n",
    "- (Syntactic) **Lexical Analysis**\n",
    "  - Concept: Divide program text into words or tokens.\n",
    "  - Input: text\n",
    "  - Output: words or tokens\n",
    "  - Sample Input: `if x == y then z = 1; else z = 2;`\n",
    "  - Sample Output: `#IF #ID(x) #EQAUL #ID(y) #THEN ...`\n",
    "- (Syntactic) **Parsing**\n",
    "  - Concept: Diagramming Sentences.\n",
    "  - Input: Tokens\n",
    "  - Output: Abstruct Semantic Tree\n",
    "  - Sample Input: #INT(5) #PLUS #INT(3) #MULTIPLY #INT(5)\n",
    "  - Sample Output: `(#PLUS (#INT(5))  (#MULTIPLY (#INT(3))  (#INT(5))))`\n",
    "- (Types scope) **Semantic Analysis**\n",
    "  - Concept: Catch inconsistencies.\n",
    "  - Sample Input: `{ int Jack=3; { int Jack=4; cout << Jack; } }`\n",
    "  - Question: What is the value?\n",
    "- **Optimization**\n",
    "  - Concept: Run faster/Use less memory/Use low power/network.\n",
    "- (Translation) **Code Generation**\n",
    "  - Concept: Produce assembly code.\n",
    "\n",
    "## Related Questions\n",
    "\n",
    "- Why are there so many programming languages?\n",
    "  - Application domains have distinct/conflicting needs.\n",
    "- Why are there new programming languages?\n",
    "  - Programming training is the dominant cost for a programming language.\n",
    "  - Wild-used languages are **slow to change**.\n",
    "  - Easy to start a new language: when **productivity** > **training cost**\n",
    "  - Languages adopted to fill a void. (**Void** means new techniques.)\n",
    "- What is a good programming languages?\n",
    "  - There is **no** universally accepted metric for language design.\n",
    "\n"
   ]
  },
  {
   "cell_type": "code",
   "execution_count": null,
   "metadata": {
    "button": false,
    "collapsed": true,
    "deletable": true,
    "new_sheet": false,
    "run_control": {
     "read_only": false
    }
   },
   "outputs": [],
   "source": []
  }
 ],
 "metadata": {
  "kernelspec": {
   "display_name": "Python 3",
   "language": "python",
   "name": "python3"
  },
  "language_info": {
   "codemirror_mode": {
    "name": "ipython",
    "version": 3
   },
   "file_extension": ".py",
   "mimetype": "text/x-python",
   "name": "python",
   "nbconvert_exporter": "python",
   "pygments_lexer": "ipython3",
   "version": "3.5.0"
  }
 },
 "nbformat": 4,
 "nbformat_minor": 0
}
